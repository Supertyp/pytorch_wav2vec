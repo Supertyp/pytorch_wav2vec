{
 "cells": [
  {
   "cell_type": "markdown",
   "id": "45db9cd4-5d33-4573-9edf-771771fb0ce1",
   "metadata": {},
   "source": [
    "## Make a new ELAN file with an additional tier\n",
    "## The aligned words are added to the new tier."
   ]
  },
  {
   "cell_type": "code",
   "execution_count": 17,
   "id": "3a8ccdab-4ee2-4490-a832-d78430351a75",
   "metadata": {},
   "outputs": [
    {
     "name": "stdout",
     "output_type": "stream",
     "text": [
      "Cathy_Samun_Wiliang_Buai_and_Tabudape_Chorus_20130412.eaf\n",
      "{'Cathy Samun Wiliang_words': [['YANGAU', 4730, 5407], ['CATHY', 6294, 6687], ['SAMUN', 6745, 7116], ['AI', 7276, 7480], ['NGAHAU', 8860, 9216], ['MAM', 9296, 9427], ['YANGAN', 9507, 9653], ['DAIDAI', 9682, 10067], ['AI', 10075, 10780], ['NGAU', 11821, 12337], ['TAMAT', 12439, 12672], ['YANGAN', 12759, 13043], ['WILIANG', 13144, 13493], ['YASUNG', 14031, 14584], ['AI', 14591, 14853], ['NGAHAU', 15733, 16394], ['NEN', 16553, 16720], ['MAM', 17802, 17911], ['MATUGAR', 17955, 18231], ['TAMATPAINIM', 18281, 19160], ['NGAU', 20618, 21026], ['MATUGAR', 21092, 21463], ['TAMAT', 21514, 21776], ['NGANGALENGE', 21849, 22709], ['HAMAM', 24013, 24755], ['AIPAIN', 24893, 25184], ['AIM', 25279, 25359], ['TOL', 25482, 25977], ['MUGANEN', 27757, 28266], ['MAINANGAN', 28302, 29029], ['GUMOS', 29668, 30322], ['AI', 30366, 30416], ['SALOME', 30518, 31158], ['AI', 31267, 31296], ['DO', 31347, 31361], ['AIM', 31492, 31601], ['TAHAIK', 31775, 32088], ['YASUNG', 33403, 33839], ['AI', 33991, 34253], ['TIBUN', 34721, 35230], ['HAN', 35484, 35593], ['YAYAMAN', 35848, 36386], ['NGAMNAGENGE', 36458, 37076], ['TAMAT', 37113, 37607], ['DO', 38705, 39221], ['NGAU', 39265, 39432], ['SULELO', 39476, 40413], ['NGAUWE', 40421, 40537], ['NGAHAU', 40926, 41747], ['SULE', 41827, 42140], ['TOMANTE', 42191, 42685], ['TI', 42758, 42874], ['TIALE', 42954, 43717], ['MATENGALO', 44815, 45871], ['MATENG', 46642, 47332], ['FUNAUWE', 47412, 47899], ['NGAM', 47928, 48168], ['SULE', 48873, 49171], ['HAN', 49331, 49469], ['TOMANTE', 49542, 49869], ['TI', 49934, 50051], ['TIE', 50145, 50625], ['DO', 52201, 52586], ['NEN', 52659, 53036], ['MAM', 53095, 53356], ['DIDA', 53545, 53676], ['NGAMMADONGE', 54431, 55405], ['YAUWE', 55535, 56239], ['NAL', 57160, 57712], ['NGAU', 57749, 57930], ['PAIN', 58090, 58228], ['DABOKE', 58279, 58795], ['TAMAT', 58839, 59093], ['NGANGALENGE', 59181, 59871], ['AIPAINIM', 60079, 60784], ['NGANAGEDINE', 60791, 61387], ['MALAL', 61430, 61794], ['MAINTE', 61874, 61983], ['NGAMADONGE', 62063, 62709], ['MATUGAR', 62753, 63153], ['MALAL', 63232, 63479], ['DO', 65418, 66166], ['NGAHAU', 67075, 67293], ['NERAURAU', 67387, 67801], ['NGAPASIMBAI', 67816, 68419], ['MAIN', 68470, 68601], ['MARIU', 68688, 68957], ['HAN', 69008, 69421], ['NGAHAU', 70869, 71291], ['TAMAT', 71357, 71590], ['IDA', 71706, 71954], ['NGAMADONG', 71990, 72288], ['NGAU', 72325, 72543], ['TAMAT', 72623, 73140], ['SULELO', 74450, 75119], ['YAKAI', 75169, 75598], ['ILO', 75707, 75853], ['GREK', 75903, 76078], ['TI', 76085, 77328], ['IDA', 77778, 77931], ['TIDASE', 78004, 78621], ['MALALTE', 78774, 79428], ['MADONGE', 79471, 79777], ['NGALEUWE', 79886, 80220], ['NGAMADONDO', 81473, 82468], ['NGAHAMAM', 82816, 83462], ['AIPAINIM', 83513, 84014], ['YAMATAIE', 84043, 84246], ['NGALE', 84254, 84391], ['MATAN', 84442, 84587], ['TI', 84747, 85328], ['DO', 86828, 87242], ['MANIG', 87285, 87511], ['ILOMAM', 87590, 88092], ['GIRENGE', 88113, 88367], ['TAN', 88418, 88585], ['NGAMBIP', 88651, 89086], ['MARIU', 90125, 90364], ['NGAMPAIP', 90408, 90909], ['MATAN', 91076, 91374], ['NGAMNGALEP', 91410, 91737], ['NGAHAMAM', 91773, 92354], ['AIPAINIM', 92478, 92797], ['NGAMYAMATAIBA', 92855, 94656], ['DO', 96153, 96567], ['MARIU', 96618, 96858], ['NGAMPAINGE', 96901, 97628], ['BRAS', 97650, 97984], ['NUMAU', 98296, 98572], ['TAHAIK', 98623, 98863], ['ILONLO', 98972, 99393], ['AGINON', 99502, 99851], ['NAGENGE', 99909, 100556], ['YAP', 100694, 101028], ['DISINGE', 101123, 101660], ['NGAMAM', 101740, 102154], ['MARIU', 102227, 102481], ['DIDADO', 102626, 103519], ['MAINHONA', 103577, 103970], ['NGAHAU', 104943, 105234], ['AIPAINIM', 105342, 105735], ['ADI', 105742, 105785], ['SULE', 105829, 105996], ['NGADADAGOKAI', 106069, 107289], ['HADI', 107437, 107720], ['SULUNGAK', 107764, 108127], ['NAGEKANEN', 108621, 109129], ['HAN', 109202, 109565], ['NGADADAGOKAI', 109601, 111344], ['NGAHAMAM', 111907, 112510], ['MADOK', 112539, 112909], ['KABAKAB', 112932, 113302], ['ADI', 113317, 113462], ['MILO', 113491, 113615], ['YANIKANEN', 113637, 114269], ['MAIN', 114560, 114661], ['MATAN', 114712, 114988], ['MAIN', 115054, 115177], ['HONA', 115279, 115824], ['PATATAN', 116579, 117073], ['MALALTE', 117102, 117544], ['NAGEKANEN', 117573, 118082], ['MARIU', 118103, 118706], ['HAN', 118735, 118960], ['MATAN', 119025, 119316], ['HONAMI', 119352, 119824], ['NGAMBI', 121232, 121544], ['NGAMMALENGGOKAI', 121610, 122575], ['DO', 124050, 124464], ['GAMONI', 124594, 125037], ['NGAU', 125219, 125589], ['ABATE', 125604, 125959], ['WAP', 125996, 126134], ['NGAHAU', 126141, 127114], ['AB', 127607, 127673], ['MAINANGAN', 127789, 128275], ['MARIU', 128587, 128776], ['HAN', 128812, 128907], ['MATAN', 128987, 129248], ['HONAMI', 129313, 129705], ['MILO', 129756, 129952], ['NGAMANINGGO', 130039, 130867], ['MARIU', 131085, 131666], ['HAN', 131688, 131826], ['MATAN', 131884, 132190], ['HONAMI', 132233, 132539], ['MILO', 132691, 132844], ['MILO', 132887, 133025], ['HUDUNGAN', 133047, 133745], ['EBLONG', 135643, 136217], ['PATATAN', 137872, 138257], ['DABOK', 138300, 138518], ['MALALTE', 138620, 139636], ['MATENG', 139723, 140355], ['HAN', 140427, 140645], ['O', 142090, 142177], ['MILO', 143121, 143368], ['YANIK', 143397, 143665], ['HAN', 143774, 144210], ['MAIN', 144390, 144586], ['MARIU', 144681, 144870], ['HAN', 144906, 145008], ['MATAN', 145080, 145357], ['HONAMI', 145422, 145677], ['NGAMDADAGOKAI', 145727, 146854], ['DO', 148340, 148645], ['NGAU', 148652, 149197], ['NERAURAU', 150801, 151339], ['SONGE', 151440, 151593], ['HAN', 151651, 151978], ['TAMATE', 152086, 152413], ['GAMONI', 152493, 152754], ['TIE', 152820, 153379], ['MAINE', 153451, 153967], ['DO', 155663, 155982], ['NGAU', 156048, 156396], ['BAR', 156404, 156483], ['TA', 156527, 156643], ['NGABIP', 156671, 157050], ['TIDOP', 158800, 159148], ['TIE', 161036, 161639], ['DO', 163649, 163998], ['BAR', 164086, 164268], ['MAINNANGAN', 164333, 164821], ['MAM', 164843, 164952], ['TIBUD', 165054, 165294], ['HAN', 165330, 165432], ['BAR', 165592, 165927], ['OH', 169567, 170170], ['MAM', 170177, 171812], ['TIBUD', 171841, 172400], ['TABUDAPE', 173396, 174769], ['MAM', 174929, 175350], ['HAN', 175401, 175924], ['GAMUK', 175990, 176382], ['TANONGPE', 176520, 178743], ['TABUDAPE', 179000, 180234], ['MAM', 180365, 180779], ['HAN', 180852, 181019], ['GAMUK', 181055, 181875], ['TANONGPE', 182311, 183865], ['TANGALEPA', 184125, 186312], ['BUBEDTE', 186414, 187249], ['BUBEDTE', 187358, 188187], ['TANAGEP', 188274, 188891], ['TANGALEPTATOR', 188957, 190606], ['HUDUNGAN', 190776, 193609], ['TANONGE', 193747, 195651], ['HUDUNGAN', 195975, 198938], ['TANONGE', 199439, 200754], ['TANGALEPA', 201197, 202541], ['BUBEDTE', 202628, 203252], ['BUBEDTE', 203318, 204182], ['TANAGEP', 204240, 205082], ['TANGALEPTATOR', 205133, 207726], ['MAINAMI', 210078, 211096], ['BAR', 211413, 211748], ['MALAIN', 211799, 212112], ['KAI', 212229, 212411], ['HADOKATA', 212440, 212898], ['NGABINGE', 212906, 213765], ['PAINIM', 217406, 217667], ['AINTA', 217740, 218147], ['DISOP', 218154, 218502], ['DIGAMUKABA', 218510, 219555], ['MANAGENGA', 219599, 220179], ['HADI', 220252, 220629], ['SABI', 221900, 222045], ['MATAN', 222074, 222321], ['TI', 222365, 222423], ['NGAMBIP', 222430, 223323], ['MAIN', 224507, 224944], ['HAN', 224973, 225155], ['LILIMAN', 225322, 225730], ['NGABINGE', 225875, 226130], ['MAIN', 226167, 226283], ['HUYANAMI', 226334, 227222], ['ESEIDI', 229292, 230411]]}\n",
      "Kadagoi_Lovinea_Rapalau_Life_Story_20130422.eaf\n",
      "{'Kadagoi Lovinea Rapalau_words': [['NGAU', 2877, 3545], ['NERAURAU', 3618, 4300], ['MAINANGAN', 4307, 5353], ['NGAHAU', 5520, 6079], ['NENLO', 6108, 6326], ['NGAGAMUKABA', 6355, 6914], ['NGAHAU', 8181, 8545], ['NEN', 8574, 8625], ['MAINANGAN', 8661, 9469], ['MATUGAR', 9477, 9891], ['PAIN', 10001, 10561], ['MADONGE', 11412, 12408], ['YAWE', 12459, 12655], ['KUDAG', 12793, 13026], ['TAMAT', 13142, 13382], ['NGALENGE', 13506, 14175], ['IDA', 15006, 15297], ['DIMADONGE', 15326, 15668], ['DINAGAYAMAME', 15712, 17211], ['DIYAMATAMAME', 17604, 18914], ['YAUWE', 18994, 19176], ['NGAM', 19198, 19387], ['HUYAHUYAE', 19394, 20013], ['NGAU', 20206, 20657], ['NGAUWE', 20722, 20998], ['PAIN', 21136, 21304], ['DABOKADO', 21333, 22256], ['TAMAT', 22481, 22699], ['NGANGALENGE', 22815, 23506], ['NGAHAU', 24760, 25146], ['TAMAT', 25240, 25495], ['MAINANGAN', 25561, 26158], ['ALI', 26391, 26449], ['DO', 26500, 26609], ['SURUMARAN', 26624, 27191], ['NGAMADONGE', 28168, 28960], ['NGAU', 28982, 29294], ['TAMAT', 29360, 29571], ['AB', 29687, 29789], ['YABINGE', 29839, 30428], ['ABI', 30494, 30690], ['NGAMBINGE', 30697, 31504], ['TIE', 31511, 32245], ['NGAMADONDO', 32486, 33387], ['NGAU', 33438, 33612], ['AIM', 33801, 34026], ['AIPAINIM', 34186, 34665], ['NGANAGEDINE', 34709, 35646], ['NGAM', 36392, 36559], ['YAMATAIE', 36639, 37453], ['NGAMADONGE', 37518, 37983], ['YAU', 38477, 38869], ['MALAL', 39088, 39466], ['MAIN', 39517, 39655], ['NGAMMENINGE', 39677, 40018], ['HAUN', 40251, 40512], ['MALAL', 40570, 40846], ['TURAN', 40919, 41123], ['NGAMAWE', 41188, 41530], ['NGAMMADONGE', 41588, 42278], ['ABEN', 42308, 42665], ['HAUN', 42694, 43088], ['NGAM', 43668, 44033], ['MADONGE', 44274, 44625], ['YAUWE', 44755, 45755], ['AB', 46495, 46925], ['YABINGE', 47063, 47347], ['MALALHAUN', 47369, 48221], ['MAINTE', 48330, 48709], ['AB', 48709, 48919], ['YABINGE', 49079, 49478], ['NGAMADONGE', 49507, 49972], ['ABINGAMBINGE', 50066, 50480], ['NGAMAM', 50516, 50930], ['AIPAINIM', 51039, 51634], ['NGAMYAMATAIDO', 51670, 52766], ['NGAMYAMATAIDO', 52941, 55024], ['YAU', 55089, 55242], ['HUYAN', 55285, 55503], ['HUYANE', 55575, 56519], ['DIYAUWE', 57046, 57889], ['SULELO', 57911, 58354], ['DIYADINE', 58535, 58964], ['AIPAINIM', 59015, 59465], ['NGAU', 59494, 59661], ['AIPAINIM', 59669, 59996], ['HUDUNGAN', 60025, 60359], ['SULE', 60366, 60693], ['DIYAUALE', 60700, 61180], ['DIYAUWE', 61757, 62432], ['DISULEDO', 62468, 63093], ['NGAM', 63100, 63339], ['NGAMADONGE', 63376, 63739], ['MALALTE', 63760, 64145], ['ABI', 64385, 64610], ['NGAMBINGDO', 64617, 65103], ['BOM', 65154, 65350], ['HURAT', 66120, 66512], ['NGAMNAGENDO', 66642, 67484], ['BOM', 67903, 68513], ['NGAMNGALE', 68557, 68905], ['PALUM', 68957, 69218], ['ABATE', 69233, 69385], ['HIENDOPE', 69451, 69916], ['NGAMPIDAP', 70068, 70599], ['WASINGWAI', 70657, 71129], ['DARUKWAI', 71137, 71652], ['NGAMTORAGO', 71660, 72219], ['WASING', 73036, 73661], ['DARUK', 73668, 73893], ['NGAM', 73944, 74206], ['ABATE', 74307, 74721], ['NGAM', 74729, 75019], ['NAGEHIANDOPE', 75056, 76051], ['NGAMNEIMA', 77062, 78028], ['GARIB', 78232, 78442], ['NGAMBAL', 78457, 78922], ['TAMAT', 79002, 79227], ['DISAPID', 79336, 79554], ['NGAM', 79728, 79968], ['PANDIN', 80128, 80484], ['DININDOP', 80535, 80920], ['DIADINAGO', 80985, 81646], ['NGAU', 81654, 81821], ['AIPAINIM', 81901, 82228], ['NGAMYAMATAIGO', 82235, 83412], ['NGAU', 83602, 84046], ['TAMAT', 84119, 84381], ['MAIN', 84497, 84620], ['TI', 84715, 84875], ['HURAT', 84890, 85021], ['NAGENGGOKAI', 85166, 86127], ['MALALTE', 86305, 86938], ['MADONGGO', 86959, 87621], ['MARIU', 87893, 88590], ['KAKAU', 88808, 89259], ['PAIDINAGO', 89346, 90181], ['MAIN', 90864, 91155], ['NGANGALEMA', 91169, 92360], ['NGADADDOPE', 92506, 92956], ['MATAN', 92971, 93334], ['NGANGALENGO', 93363, 94220], ['MATAN', 94738, 94956], ['NGANGALEMA', 94963, 95319], ['NGAHAU', 95334, 95922], ['AIPAINIM', 96482, 96852], ['ADI', 96918, 97078], ['SULUNGADI', 97114, 97623], ['DADAGO', 97637, 98291], ['DINAGENDOPE', 98364, 99054], ['SULE', 99061, 99214], ['DIYAWE', 99272, 100064], ['DO', 100803, 101094], ['NGAMADONGE', 101144, 101624], ['YAUWE', 101813, 101980], ['GAMONI', 102023, 102394], ['MAINANGAN', 102445, 102917], ['NGAMAM', 102924, 103920], ['AB', 103927, 104108], ['GAM', 104181, 104428], ['AYANE', 105125, 105445], ['WAGAMANENAGO', 105474, 106353], ['NGAMAM', 106527, 106789], ['ABATE', 106905, 107290], ['SUL', 107298, 107545], ['TATI', 107617, 108082], ['GAMONI', 108771, 109142], ['NGAMMADONGGO', 109178, 109695], ['MAIN', 109753, 110510], ['MANAGE', 110765, 111804], ['NGAMAM', 112109, 112393], ['MADOK', 112422, 112640], ['GAMONI', 112836, 113279], ['MAIN', 113308, 113497], ['I', 113533, 113541], ['LOMAM', 113555, 113962], ['GERENGGO', 114006, 114209], ['AB', 114296, 114376], ['HONA', 114427, 114609], ['NGAMINDOP', 114630, 115154], ['SUL', 115219, 115495], ['NGAMAM', 116040, 116454], ['ABATE', 116534, 116723], ['PALUMBAI', 116788, 117435], ['MAIN', 118199, 118620], ['WAI', 118649, 118787], ['I', 118882, 118947], ['LOMAM', 118983, 119129], ['GIRENDO', 119180, 119521], ['NGAMMADONGGO', 119528, 120596], ['MAINAMI', 122705, 123571], ['NGAHAU', 123578, 123833], ['GAMUK', 123899, 124066], ['TAKURAN', 124183, 124510], ['MAINAMI', 124561, 125209], ['NGAU', 127931, 128244], ['NERAURAU', 128251, 128571], ['TIYALE', 128665, 130097]]}\n"
     ]
    }
   ],
   "source": [
    "import os\n",
    "import json\n",
    "import xml.etree.ElementTree as ET\n",
    "from pympi import Eaf\n",
    "\n",
    "folder_path = 'C:\\\\Users\\\\barth\\\\gits\\\\pytorch_wav2vec\\\\test_data\\\\'\n",
    "inputPath = folder_path + \"input\\\\\"\n",
    "mediaPath = folder_path + \"media_snippets\\\\\"\n",
    "outputPath = folder_path + \"output\\\\\"\n",
    "\n",
    "\n",
    "def read_json_file(filename):\n",
    "    try:\n",
    "        with open(filename, 'r') as json_file:\n",
    "            data = json.load(json_file)\n",
    "            return data\n",
    "    except Exception as e:\n",
    "        print(f\"Error reading JSON file: {e}\")\n",
    "        return None\n",
    "\n",
    "\n",
    "def parse_xml(eaf_file_path, newTiers):\n",
    "    \n",
    "    eaf = Eaf(eaf_file_path)\n",
    "    \n",
    "\n",
    "    for tier, annos in newTiers.items():\n",
    "        if tier not in eaf.tiers:\n",
    "            eaf.add_tier(tier)\n",
    "            \n",
    "        for anno in annos:# Add the annotation to the tier\n",
    "            eaf.add_annotation(tier, anno[1], anno[2], value=anno[0], svg_ref=None)\n",
    "            \n",
    "    file_name = os.path.basename(eaf_file_path)\n",
    "\n",
    "    newFile = outputPath + file_name + \".eaf\"\n",
    "    \n",
    "    eaf.to_file(newFile)\n",
    "\n",
    "   \n",
    "# Process each .eaf file in the folder\n",
    "for filename in os.listdir(inputPath):\n",
    "    \n",
    "    if filename.endswith('.eaf'):\n",
    "        eaf_file_path = os.path.join(inputPath, filename)\n",
    "        print (filename)\n",
    "        additions = {}\n",
    "        jsonFile = mediaPath + filename[:-4] + \".json\"\n",
    "        tierData = read_json_file(jsonFile)\n",
    "        #print(tierData)\n",
    "        for k, v in tierData.items():\n",
    "            if v[\"tiername\"] + \"_words\" not in additions:\n",
    "                additions[v[\"tiername\"] + \"_words\"] = []\n",
    "            \n",
    "            for word in v[\"words\"]:\n",
    "                additions[v[\"tiername\"] + \"_words\"].append(word)\n",
    "\n",
    "            \n",
    "            \n",
    "        print(additions)\n",
    "\n",
    "                \n",
    "        parse_xml(eaf_file_path, additions)\n",
    "\n"
   ]
  },
  {
   "cell_type": "code",
   "execution_count": null,
   "id": "482e7822-160c-4a78-a1a4-fdb4b26994f8",
   "metadata": {},
   "outputs": [],
   "source": []
  },
  {
   "cell_type": "code",
   "execution_count": null,
   "id": "d67c5fb0-dacc-4c94-986f-8b5cf66c2873",
   "metadata": {},
   "outputs": [],
   "source": []
  }
 ],
 "metadata": {
  "kernelspec": {
   "display_name": "Python 3 (ipykernel)",
   "language": "python",
   "name": "python3"
  },
  "language_info": {
   "codemirror_mode": {
    "name": "ipython",
    "version": 3
   },
   "file_extension": ".py",
   "mimetype": "text/x-python",
   "name": "python",
   "nbconvert_exporter": "python",
   "pygments_lexer": "ipython3",
   "version": "3.8.18"
  }
 },
 "nbformat": 4,
 "nbformat_minor": 5
}
